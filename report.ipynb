{
 "cells": [
  {
   "attachments": {},
   "cell_type": "markdown",
   "metadata": {},
   "source": [
    "# Coursework Assignment: Building a Regression Model\n",
    "\n",
    "```\n",
    "University of London\n",
    "BSc in Computer Science\n",
    "CM3005, Data Science\n",
    "Hudson Leonardo MENDES\n",
    "hlm12@student.london.ac.uk\n",
    "```\n"
   ]
  },
  {
   "attachments": {},
   "cell_type": "markdown",
   "metadata": {},
   "source": [
    "# I. Introduction\n"
   ]
  },
  {
   "attachments": {},
   "cell_type": "markdown",
   "metadata": {},
   "source": [
    "## Domain-specific area\n"
   ]
  },
  {
   "attachments": {},
   "cell_type": "markdown",
   "metadata": {},
   "source": [
    "## Dataset\n"
   ]
  },
  {
   "attachments": {},
   "cell_type": "markdown",
   "metadata": {},
   "source": [
    "## Objectives\n"
   ]
  },
  {
   "attachments": {},
   "cell_type": "markdown",
   "metadata": {},
   "source": [
    "# II. Implementation\n"
   ]
  },
  {
   "attachments": {},
   "cell_type": "markdown",
   "metadata": {},
   "source": [
    "## Preprocessing\n"
   ]
  },
  {
   "cell_type": "code",
   "execution_count": null,
   "metadata": {},
   "outputs": [],
   "source": [
    "import pathlib\n",
    "\n",
    "data_folderpath = pathlib.Path(\"./data\")\n",
    "\n",
    "ppd_folderpath = data_folderpath / \"uk-ppd\"\n",
    "inflation_filepath = data_folderpath / \"uk-ons/ons-inflation-1989-2022.csv\"\n",
    "interest_filepath = data_folderpath / \"uk-boe/boe-interest-1975-2022.csv\"\n"
   ]
  },
  {
   "cell_type": "code",
   "execution_count": null,
   "metadata": {},
   "outputs": [],
   "source": [
    "import pandas as pd\n",
    "\n",
    "pd.set_option(\"display.float_format\", lambda x: \"{:,.3f}\".format(x))\n"
   ]
  },
  {
   "cell_type": "code",
   "execution_count": null,
   "metadata": {},
   "outputs": [],
   "source": [
    "# https://www.gov.uk/guidance/about-the-price-paid-data\n",
    "ppd_property_type = {\n",
    "    \"D\": \"detached\",\n",
    "    \"S\": \"semi-detached\",\n",
    "    \"T\": \"terraced\",\n",
    "    \"F\": \"flat/maisonettes\",\n",
    "    # \"O\": \"other\" # => intentionally ommitted\n",
    "}\n",
    "\n",
    "ppd_duration = {\"F\": \"freehold\", \"L\": \"leasehold\"}\n",
    "\n",
    "ppd_old_or_new = {\"Y\": \"new\", \"N\": \"old\"}\n",
    "\n",
    "ppd_df = pd.concat(\n",
    "    [\n",
    "        pd.read_csv(\n",
    "            ppd_filepath,\n",
    "            compression=\"zip\",\n",
    "            names=[\n",
    "                \"id\",\n",
    "                \"price\",\n",
    "                \"date\",\n",
    "                \"postcode\",\n",
    "                \"property_type\",\n",
    "                \"old_or_new\",\n",
    "                \"duration\",\n",
    "                \"paon\",\n",
    "                \"saon\",\n",
    "                \"street\",\n",
    "                \"locality\",\n",
    "                \"town_city\",\n",
    "                \"district\",\n",
    "                \"county\",\n",
    "                \"ppd_category_type\",\n",
    "                \"record_status\",\n",
    "            ],\n",
    "        )\n",
    "        for ppd_filepath in ppd_folderpath.glob(\"*.zip\")\n",
    "    ]\n",
    ")\n",
    "ppd_df[\"postgroup\"] = ppd_df[\"postcode\"].map(lambda x: str(x).split(\" \")[0])\n",
    "ppd_df[\"date\"] = pd.to_datetime(ppd_df[\"date\"])\n",
    "ppd_df[\"property_type\"] = ppd_df[\"property_type\"].map(ppd_property_type.get)\n",
    "ppd_df[\"duration\"] = ppd_df[\"duration\"].map(ppd_duration.get)\n",
    "ppd_df[\"old_or_new\"] = ppd_df[\"old_or_new\"].map(ppd_old_or_new.get)\n",
    "ppd_df = ppd_df[\n",
    "    [\n",
    "        \"date\",\n",
    "        \"postgroup\",\n",
    "        \"property_type\",\n",
    "        \"old_or_new\",\n",
    "        \"duration\",\n",
    "        \"price\",\n",
    "    ]\n",
    "]\n",
    "ppd_df = ppd_df.astype(\n",
    "    {\n",
    "        \"postgroup\": \"category\",\n",
    "        \"property_type\": \"category\",\n",
    "        \"old_or_new\": \"category\",\n",
    "        \"duration\": \"category\",\n",
    "        \"price\": \"double\",\n",
    "    }\n",
    ")\n",
    "ppd_df = ppd_df.dropna()\n",
    "ppd_df.sample(n=5)\n"
   ]
  },
  {
   "cell_type": "code",
   "execution_count": null,
   "metadata": {},
   "outputs": [],
   "source": [
    "import re\n",
    "import string\n",
    "from datetime import date\n",
    "\n",
    "inflation_date_pattern = re.compile(r\"([\\d]{4})(?:\\s+([\\w]{3}))?\")\n",
    "inflation_month_names = [\n",
    "    \"JAN\",\n",
    "    \"FEB\",\n",
    "    \"MAR\",\n",
    "    \"APR\",\n",
    "    \"MAY\",\n",
    "    \"JUN\",\n",
    "    \"JUL\",\n",
    "    \"AUG\",\n",
    "    \"SEP\",\n",
    "    \"OCT\",\n",
    "    \"NOV\",\n",
    "    \"DEC\",\n",
    "]\n",
    "inflation_month_index = {mn: ix + 1 for (ix, mn) in enumerate(inflation_month_names)}\n",
    "inflation_month_index[\"Q1\"] = 1\n",
    "inflation_month_index[\"Q2\"] = 4\n",
    "inflation_month_index[\"Q3\"] = 7\n",
    "inflation_month_index[\"Q3\"] = 10\n",
    "\n",
    "inflation_acceptable_numeric_chars = string.digits + \".,\"\n",
    "\n",
    "\n",
    "def extract_inflation_date(x: str) -> date:\n",
    "    match = next(inflation_date_pattern.finditer(x), None)\n",
    "    if match:\n",
    "        group_count = len(match.groups())\n",
    "        if group_count >= 1:\n",
    "            year = int(match.group(1))\n",
    "            month = 1\n",
    "            month_name = match.group(2)\n",
    "            if group_count > 1 and month_name:\n",
    "                month_name = month_name.strip().upper()\n",
    "                month = inflation_month_index.get(month_name)\n",
    "            return date(year, month, 1)\n",
    "\n",
    "\n",
    "def extract_inflation_rate(x: str) -> float:\n",
    "    x = str(x)\n",
    "    if all([c in inflation_acceptable_numeric_chars for c in x]):\n",
    "        return float(x)\n",
    "    return None\n",
    "\n",
    "\n",
    "inflation_df = pd.read_csv(inflation_filepath)\n",
    "inflation_df[\"date\"] = inflation_df[\"Title\"].map(extract_inflation_date)\n",
    "inflation_df[\"date\"] = pd.to_datetime(inflation_df[\"date\"])\n",
    "inflation_df[\"rate\"] = inflation_df[\"CPIH ANNUAL RATE 00: ALL ITEMS 2015=100\"].map(\n",
    "    extract_inflation_rate\n",
    ")\n",
    "inflation_df[\"rate\"] = inflation_df[\"rate\"].astype(\"float\", errors=\"ignore\")\n",
    "inflation_df = inflation_df[[\"date\", \"rate\"]]\n",
    "inflation_df = inflation_df.dropna()\n",
    "inflation_df = inflation_df.set_index(\"date\").sort_index()\n",
    "inflation_df.sample(n=5)\n"
   ]
  },
  {
   "cell_type": "code",
   "execution_count": null,
   "metadata": {},
   "outputs": [],
   "source": [
    "interest_df = pd.read_csv(interest_filepath)\n",
    "interest_df[\"date\"] = pd.to_datetime(interest_df[\"Date Changed\"])\n",
    "interest_df[\"rate\"] = interest_df[\"Rate\"].astype(\"float\")\n",
    "interest_df = interest_df[[\"date\", \"rate\"]]\n",
    "interest_df = interest_df.set_index(\"date\").sort_index()\n",
    "interest_df.sample(n=5)\n"
   ]
  },
  {
   "cell_type": "code",
   "execution_count": null,
   "metadata": {},
   "outputs": [],
   "source": [
    "from tqdm import tqdm, trange\n",
    "from typing import Callable\n",
    "from datetime import date, timedelta\n",
    "\n",
    "tqdm.pandas()\n",
    "\n",
    "\n",
    "def build_rate_extractor(df: pd.DataFrame) -> Callable[[date], float]:\n",
    "    min_date = df.index.min()\n",
    "    max_date = df.index.max()\n",
    "    cur_date = min_date\n",
    "    rate_index = {}\n",
    "    first_rate = df.rate[0]\n",
    "    prev_rate = first_rate\n",
    "    last_rate = df.rate[-1]\n",
    "    with trange((max_date - min_date).days, desc=\"rate_index\") as pbar:\n",
    "        while cur_date <= max_date:\n",
    "            rates = df[df.index == cur_date].rate\n",
    "            if rates.any():\n",
    "                new_rate = rates[0] / 100.0\n",
    "                rate_index[cur_date] = new_rate\n",
    "                prev_rate = new_rate\n",
    "            else:\n",
    "                rate_index[cur_date] = prev_rate\n",
    "            cur_date += timedelta(days=1)\n",
    "            pbar.update()\n",
    "\n",
    "    def get_rate_for_date(d: date) -> float:\n",
    "        if d < min_date:\n",
    "            return first_rate\n",
    "        elif d > max_date:\n",
    "            return last_rate\n",
    "        else:\n",
    "            return rate_index[d]\n",
    "\n",
    "    return get_rate_for_date\n",
    "\n",
    "\n",
    "df = ppd_df.copy()\n",
    "df[\"inflation_rate\"] = df.date.progress_map(build_rate_extractor(df=inflation_df))\n",
    "df[\"interest_rate\"] = df.date.progress_map(build_rate_extractor(df=interest_df))\n",
    "df[\"date_year\"] = df.date.progress_map(lambda d: d.year)\n",
    "df[\"date_month\"] = df.date.progress_map(lambda d: d.month)\n",
    "df[\"date_day\"] = df.date.progress_map(lambda d: d.day)\n",
    "df[\"date_day_of_week\"] = df.date.progress_map(lambda d: d.weekday())\n",
    "df = df.sort_values(by=\"date\").reset_index()\n",
    "df = df[\n",
    "    [\"date_year\", \"date_month\", \"date_day\", \"date_day_of_week\"]\n",
    "    + list(ppd_df.columns[1:-1])\n",
    "    + [\"inflation_rate\", \"interest_rate\", \"price\"]\n",
    "]\n",
    "df.sample(n=5)\n"
   ]
  },
  {
   "cell_type": "code",
   "execution_count": null,
   "metadata": {},
   "outputs": [],
   "source": [
    "df.to_csv(data_folderpath / \"snapshot-Xy-1NF.zip\", index=False)\n"
   ]
  },
  {
   "attachments": {},
   "cell_type": "markdown",
   "metadata": {},
   "source": [
    "## Statistical Summary\n"
   ]
  },
  {
   "cell_type": "code",
   "execution_count": null,
   "metadata": {},
   "outputs": [],
   "source": [
    "try:\n",
    "    assert df is not None\n",
    "except NameError:\n",
    "    import pathlib\n",
    "    import pandas as pd\n",
    "    import numpy as np\n",
    "\n",
    "    print(\"[SNAPSHOT] Reloading...\")\n",
    "    pd.set_option(\"display.float_format\", lambda x: \"{:,.3f}\".format(x))\n",
    "    data_folderpath = pathlib.Path(\"./data\")\n",
    "    df = pd.read_csv(data_folderpath / \"snapshot-Xy-1NF.zip\").astype(\n",
    "        {\n",
    "            \"postgroup\": \"category\",\n",
    "            \"property_type\": \"category\",\n",
    "            \"old_or_new\": \"category\",\n",
    "            \"duration\": \"category\",\n",
    "            \"price\": \"double\",\n",
    "        }\n",
    "    )\n",
    "    print(f\" - reloaded from snapshot, {df.shape[0]}\")\n",
    "df.head()\n"
   ]
  },
  {
   "cell_type": "code",
   "execution_count": null,
   "metadata": {},
   "outputs": [],
   "source": [
    "df.info()\n"
   ]
  },
  {
   "cell_type": "code",
   "execution_count": null,
   "metadata": {},
   "outputs": [],
   "source": [
    "df.describe()\n"
   ]
  },
  {
   "cell_type": "code",
   "execution_count": null,
   "metadata": {},
   "outputs": [],
   "source": [
    "# TODO: Central Tendency\n"
   ]
  },
  {
   "cell_type": "code",
   "execution_count": null,
   "metadata": {},
   "outputs": [],
   "source": [
    "# TODO: Measures of Spread\n"
   ]
  },
  {
   "cell_type": "code",
   "execution_count": null,
   "metadata": {},
   "outputs": [],
   "source": [
    "# TODO: Type of distribution\n"
   ]
  },
  {
   "attachments": {},
   "cell_type": "markdown",
   "metadata": {},
   "source": [
    "## Data visualisation\n"
   ]
  },
  {
   "cell_type": "code",
   "execution_count": null,
   "metadata": {},
   "outputs": [],
   "source": [
    "try:\n",
    "    assert df is not None\n",
    "except NameError:\n",
    "    import pathlib\n",
    "    import pandas as pd\n",
    "\n",
    "    print(\"[SNAPSHOT] Reloading...\")\n",
    "    pd.set_option(\"display.float_format\", lambda x: \"{:,.3f}\".format(x))\n",
    "    data_folderpath = pathlib.Path(\"./data\")\n",
    "    df = pd.read_csv(data_folderpath / \"snapshot-Xy-1NF.zip\").astype(\n",
    "        {\n",
    "            \"postgroup\": \"category\",\n",
    "            \"property_type\": \"category\",\n",
    "            \"old_or_new\": \"category\",\n",
    "            \"duration\": \"category\",\n",
    "            \"price\": \"double\",\n",
    "        }\n",
    "    )\n",
    "    print(f\" - reloaded from snapshot, {df.shape[0]}\")\n",
    "df.head()\n"
   ]
  },
  {
   "cell_type": "code",
   "execution_count": null,
   "metadata": {},
   "outputs": [],
   "source": [
    "%matplotlib inline"
   ]
  },
  {
   "cell_type": "code",
   "execution_count": null,
   "metadata": {},
   "outputs": [],
   "source": [
    "import scipy\n",
    "import numpy as np\n",
    "import matplotlib.pyplot as plt\n",
    "from matplotlib.ticker import FormatStrFormatter, StrMethodFormatter\n"
   ]
  },
  {
   "cell_type": "code",
   "execution_count": null,
   "metadata": {},
   "outputs": [],
   "source": [
    "from datetime import date\n",
    "\n",
    "max_price = float(df.price.max())\n",
    "max_rate = max(df.interest_rate.max(), df.inflation_rate.max())\n",
    "min_intersecting_date = date(df.date_year.min(), 1, 1)\n",
    "max_intersecting_date = date(df.date_year.max(), 12, 30)\n"
   ]
  },
  {
   "cell_type": "code",
   "execution_count": null,
   "metadata": {},
   "outputs": [],
   "source": [
    "_, axes = plt.subplots(ncols=2, nrows=1, figsize=(15, 5))\n",
    "\n",
    "\n",
    "def plot_rate_distributions(ax, df: pd.DataFrame, label: str, color: str):\n",
    "    df = df.copy()\n",
    "    x = np.linspace(0.0, df[\"rate\"].max(), 100)\n",
    "    df[\"bin\"] = pd.cut(df[\"rate\"], bins=x)\n",
    "    y = list(df.groupby(\"bin\").count()[\"rate\"])\n",
    "    ax.fill_between(x[:-1], 0.0, y, color=color, alpha=0.5)\n",
    "    ax.xaxis.set_major_formatter(FormatStrFormatter(\"%2.2f%%\"))\n",
    "    intervals = [0.05, 0.95]\n",
    "    for interval, quantile in zip(intervals, df.rate.quantile(intervals)):\n",
    "        percentile = f\"P{int(interval*100.)}={round(quantile, 2)}\"\n",
    "        bbox = dict(boxstyle=\"round, pad=0.3\", fc=\"lightgray\", lw=2)\n",
    "        ax.axvline(x=quantile, color=\"blue\")\n",
    "        ax.annotate(\n",
    "            percentile,\n",
    "            xy=(quantile, max(y)),\n",
    "            bbox=bbox,\n",
    "            ha=\"center\",\n",
    "            va=\"center\",\n",
    "        )\n",
    "    ax.axvline(x=quantile, color=\"blue\")\n",
    "    ax.legend([label], loc=\"lower center\", bbox_to_anchor=(0.5, -0.2))\n",
    "\n",
    "\n",
    "plot_rate_distributions(\n",
    "    ax=axes[0],\n",
    "    df=interest_df,\n",
    "    label=\"interest\",\n",
    "    color=\"green\",\n",
    ")\n",
    "\n",
    "plot_rate_distributions(\n",
    "    ax=axes[1],\n",
    "    df=inflation_df,\n",
    "    label=\"inflation\",\n",
    "    color=\"red\",\n",
    ")\n"
   ]
  },
  {
   "cell_type": "code",
   "execution_count": null,
   "metadata": {},
   "outputs": [],
   "source": [
    "from datetime import date\n",
    "from tqdm import tqdm\n",
    "\n",
    "_, axes = plt.subplots(nrows=2, figsize=(15, 10), sharex=True)\n",
    "\n",
    "series = df.copy()\n",
    "series[\"date\"] = df.apply(lambda r: date(r.date_year, r.date_month, r.date_day), axis=1)\n",
    "series = series.groupby(\"date\").mean(numeric_only=True).dropna()\n",
    "\n",
    "x = series.index\n",
    "\n",
    "axes[0].grid(visible=True)\n",
    "axes[0].plot(x, series.interest_rate * 100.0, \"g.-\", alpha=0.7)\n",
    "axes[0].plot(x, series.inflation_rate * 100.0, \"r.-\", alpha=0.7)\n",
    "axes[0].set_xlim(left=min_intersecting_date, right=max_intersecting_date)\n",
    "axes[0].set_ylabel(\"rates (%)\")\n",
    "axes[0].yaxis.set_major_formatter(FormatStrFormatter(\"%2.2f%%\"))\n",
    "axes[0].legend([\"interest\", \"inflation\"])\n",
    "\n",
    "axes[1].grid(visible=True)\n",
    "axes[1].yaxis.set_major_formatter(StrMethodFormatter(\"{x:,}\"))\n",
    "axes[1].set_ylim(0.0, df.price.quantile(0.95) * 1.2)\n",
    "axes[1].set_ylabel(\"property price (£)\")\n",
    "for ix, property_type in tqdm(list(enumerate(ppd_property_type.values()))):\n",
    "    sub_series = df[df.property_type == property_type].copy()\n",
    "    sub_series[\"date_ym\"] = sub_series.apply(\n",
    "        lambda r: date(r.date_year, r.date_month, 1), axis=1\n",
    "    )\n",
    "    sub_series = sub_series[[\"date_ym\", \"price\"]]\n",
    "    sub_series = sub_series.groupby(\"date_ym\").mean(numeric_only=True)\n",
    "    sub_series = sub_series.fillna(method=\"ffill\")\n",
    "    axes[1].plot(sub_series.index, sub_series.price, \"s\", alpha=0.7)\n",
    "    axes[1].legend(ppd_property_type.values())\n"
   ]
  },
  {
   "attachments": {},
   "cell_type": "markdown",
   "metadata": {},
   "source": [
    "## Machine learning model\n"
   ]
  },
  {
   "cell_type": "code",
   "execution_count": 1,
   "metadata": {},
   "outputs": [
    {
     "name": "stdout",
     "output_type": "stream",
     "text": [
      "[SNAPSHOT] Reloading...\n",
      " - reloaded from snapshot, 4336841\n"
     ]
    },
    {
     "data": {
      "text/html": [
       "<div>\n",
       "<style scoped>\n",
       "    .dataframe tbody tr th:only-of-type {\n",
       "        vertical-align: middle;\n",
       "    }\n",
       "\n",
       "    .dataframe tbody tr th {\n",
       "        vertical-align: top;\n",
       "    }\n",
       "\n",
       "    .dataframe thead th {\n",
       "        text-align: right;\n",
       "    }\n",
       "</style>\n",
       "<table border=\"1\" class=\"dataframe\">\n",
       "  <thead>\n",
       "    <tr style=\"text-align: right;\">\n",
       "      <th></th>\n",
       "      <th>date_year</th>\n",
       "      <th>date_month</th>\n",
       "      <th>date_day</th>\n",
       "      <th>date_day_of_week</th>\n",
       "      <th>postgroup</th>\n",
       "      <th>property_type</th>\n",
       "      <th>old_or_new</th>\n",
       "      <th>duration</th>\n",
       "      <th>inflation_rate</th>\n",
       "      <th>interest_rate</th>\n",
       "      <th>price</th>\n",
       "    </tr>\n",
       "  </thead>\n",
       "  <tbody>\n",
       "    <tr>\n",
       "      <th>0</th>\n",
       "      <td>2018</td>\n",
       "      <td>1</td>\n",
       "      <td>1</td>\n",
       "      <td>0</td>\n",
       "      <td>OL12</td>\n",
       "      <td>semi-detached</td>\n",
       "      <td>old</td>\n",
       "      <td>freehold</td>\n",
       "      <td>0.027</td>\n",
       "      <td>0.005</td>\n",
       "      <td>123,500.000</td>\n",
       "    </tr>\n",
       "    <tr>\n",
       "      <th>1</th>\n",
       "      <td>2018</td>\n",
       "      <td>1</td>\n",
       "      <td>1</td>\n",
       "      <td>0</td>\n",
       "      <td>CF40</td>\n",
       "      <td>terraced</td>\n",
       "      <td>old</td>\n",
       "      <td>freehold</td>\n",
       "      <td>0.027</td>\n",
       "      <td>0.005</td>\n",
       "      <td>45,000.000</td>\n",
       "    </tr>\n",
       "    <tr>\n",
       "      <th>2</th>\n",
       "      <td>2018</td>\n",
       "      <td>1</td>\n",
       "      <td>1</td>\n",
       "      <td>0</td>\n",
       "      <td>B63</td>\n",
       "      <td>flat/maisonettes</td>\n",
       "      <td>old</td>\n",
       "      <td>leasehold</td>\n",
       "      <td>0.027</td>\n",
       "      <td>0.005</td>\n",
       "      <td>75,000.000</td>\n",
       "    </tr>\n",
       "    <tr>\n",
       "      <th>3</th>\n",
       "      <td>2018</td>\n",
       "      <td>1</td>\n",
       "      <td>1</td>\n",
       "      <td>0</td>\n",
       "      <td>SO15</td>\n",
       "      <td>terraced</td>\n",
       "      <td>old</td>\n",
       "      <td>freehold</td>\n",
       "      <td>0.027</td>\n",
       "      <td>0.005</td>\n",
       "      <td>193,900.000</td>\n",
       "    </tr>\n",
       "    <tr>\n",
       "      <th>4</th>\n",
       "      <td>2018</td>\n",
       "      <td>1</td>\n",
       "      <td>1</td>\n",
       "      <td>0</td>\n",
       "      <td>CO6</td>\n",
       "      <td>semi-detached</td>\n",
       "      <td>old</td>\n",
       "      <td>freehold</td>\n",
       "      <td>0.027</td>\n",
       "      <td>0.005</td>\n",
       "      <td>215,000.000</td>\n",
       "    </tr>\n",
       "  </tbody>\n",
       "</table>\n",
       "</div>"
      ],
      "text/plain": [
       "   date_year  date_month  date_day  date_day_of_week postgroup  \\\n",
       "0       2018           1         1                 0      OL12   \n",
       "1       2018           1         1                 0      CF40   \n",
       "2       2018           1         1                 0       B63   \n",
       "3       2018           1         1                 0      SO15   \n",
       "4       2018           1         1                 0       CO6   \n",
       "\n",
       "      property_type old_or_new   duration  inflation_rate  interest_rate  \\\n",
       "0     semi-detached        old   freehold           0.027          0.005   \n",
       "1          terraced        old   freehold           0.027          0.005   \n",
       "2  flat/maisonettes        old  leasehold           0.027          0.005   \n",
       "3          terraced        old   freehold           0.027          0.005   \n",
       "4     semi-detached        old   freehold           0.027          0.005   \n",
       "\n",
       "        price  \n",
       "0 123,500.000  \n",
       "1  45,000.000  \n",
       "2  75,000.000  \n",
       "3 193,900.000  \n",
       "4 215,000.000  "
      ]
     },
     "execution_count": 1,
     "metadata": {},
     "output_type": "execute_result"
    }
   ],
   "source": [
    "try:\n",
    "    assert df is not None\n",
    "except NameError:\n",
    "    import pathlib\n",
    "    import pandas as pd\n",
    "    import numpy as np\n",
    "\n",
    "    print(\"[SNAPSHOT] Reloading...\")\n",
    "    pd.set_option(\"display.float_format\", lambda x: \"{:,.3f}\".format(x))\n",
    "    data_folderpath = pathlib.Path(\"./data\")\n",
    "    df = pd.read_csv(data_folderpath / \"snapshot-Xy-1NF.zip\").astype(\n",
    "        {\n",
    "            \"postgroup\": \"category\",\n",
    "            \"property_type\": \"category\",\n",
    "            \"old_or_new\": \"category\",\n",
    "            \"duration\": \"category\",\n",
    "            \"price\": \"double\",\n",
    "        }\n",
    "    )\n",
    "    print(f\" - reloaded from snapshot, {df.shape[0]}\")\n",
    "df.head()\n"
   ]
  },
  {
   "cell_type": "code",
   "execution_count": 2,
   "metadata": {},
   "outputs": [],
   "source": [
    "X, y = df[df.columns[:-1]], df[df.columns[-1]]\n"
   ]
  },
  {
   "cell_type": "code",
   "execution_count": 3,
   "metadata": {},
   "outputs": [
    {
     "name": "stdout",
     "output_type": "stream",
     "text": [
      "[ColumnTransformer] . (1 of 6) Processing onehotencoder, total=   4.4s\n",
      "[ColumnTransformer]  (2 of 6) Processing standardscaler-1, total=   0.1s\n",
      "[ColumnTransformer]  (3 of 6) Processing standardscaler-2, total=   0.1s\n",
      "[ColumnTransformer]  (4 of 6) Processing functiontransformer-1, total=   0.1s\n",
      "[ColumnTransformer]  (5 of 6) Processing functiontransformer-2, total=   0.1s\n",
      "[ColumnTransformer]  (6 of 6) Processing functiontransformer-3, total=   0.2s\n"
     ]
    },
    {
     "data": {
      "text/html": [
       "<div>\n",
       "<style scoped>\n",
       "    .dataframe tbody tr th:only-of-type {\n",
       "        vertical-align: middle;\n",
       "    }\n",
       "\n",
       "    .dataframe tbody tr th {\n",
       "        vertical-align: top;\n",
       "    }\n",
       "\n",
       "    .dataframe thead th {\n",
       "        text-align: right;\n",
       "    }\n",
       "</style>\n",
       "<table border=\"1\" class=\"dataframe\">\n",
       "  <thead>\n",
       "    <tr style=\"text-align: right;\">\n",
       "      <th></th>\n",
       "      <th>0</th>\n",
       "      <th>1</th>\n",
       "      <th>2</th>\n",
       "      <th>3</th>\n",
       "      <th>4</th>\n",
       "      <th>5</th>\n",
       "      <th>6</th>\n",
       "      <th>7</th>\n",
       "      <th>8</th>\n",
       "      <th>9</th>\n",
       "      <th>...</th>\n",
       "      <th>2306</th>\n",
       "      <th>2307</th>\n",
       "      <th>2308</th>\n",
       "      <th>2309</th>\n",
       "      <th>2310</th>\n",
       "      <th>2311</th>\n",
       "      <th>2312</th>\n",
       "      <th>2313</th>\n",
       "      <th>2314</th>\n",
       "      <th>2315</th>\n",
       "    </tr>\n",
       "  </thead>\n",
       "  <tbody>\n",
       "    <tr>\n",
       "      <th>0</th>\n",
       "      <td>0.000</td>\n",
       "      <td>0.000</td>\n",
       "      <td>0.000</td>\n",
       "      <td>0.000</td>\n",
       "      <td>0.000</td>\n",
       "      <td>0.000</td>\n",
       "      <td>0.000</td>\n",
       "      <td>0.000</td>\n",
       "      <td>0.000</td>\n",
       "      <td>0.000</td>\n",
       "      <td>...</td>\n",
       "      <td>0.000</td>\n",
       "      <td>1.000</td>\n",
       "      <td>1.000</td>\n",
       "      <td>0.000</td>\n",
       "      <td>0.089</td>\n",
       "      <td>0.039</td>\n",
       "      <td>-1.361</td>\n",
       "      <td>0.500</td>\n",
       "      <td>0.201</td>\n",
       "      <td>0.000</td>\n",
       "    </tr>\n",
       "    <tr>\n",
       "      <th>1</th>\n",
       "      <td>0.000</td>\n",
       "      <td>0.000</td>\n",
       "      <td>0.000</td>\n",
       "      <td>0.000</td>\n",
       "      <td>0.000</td>\n",
       "      <td>0.000</td>\n",
       "      <td>0.000</td>\n",
       "      <td>0.000</td>\n",
       "      <td>0.000</td>\n",
       "      <td>0.000</td>\n",
       "      <td>...</td>\n",
       "      <td>0.000</td>\n",
       "      <td>1.000</td>\n",
       "      <td>1.000</td>\n",
       "      <td>0.000</td>\n",
       "      <td>0.089</td>\n",
       "      <td>0.039</td>\n",
       "      <td>-1.361</td>\n",
       "      <td>0.500</td>\n",
       "      <td>0.201</td>\n",
       "      <td>0.000</td>\n",
       "    </tr>\n",
       "    <tr>\n",
       "      <th>2</th>\n",
       "      <td>0.000</td>\n",
       "      <td>0.000</td>\n",
       "      <td>0.000</td>\n",
       "      <td>0.000</td>\n",
       "      <td>0.000</td>\n",
       "      <td>0.000</td>\n",
       "      <td>0.000</td>\n",
       "      <td>0.000</td>\n",
       "      <td>0.000</td>\n",
       "      <td>0.000</td>\n",
       "      <td>...</td>\n",
       "      <td>0.000</td>\n",
       "      <td>1.000</td>\n",
       "      <td>0.000</td>\n",
       "      <td>1.000</td>\n",
       "      <td>0.089</td>\n",
       "      <td>0.039</td>\n",
       "      <td>-1.361</td>\n",
       "      <td>0.500</td>\n",
       "      <td>0.201</td>\n",
       "      <td>0.000</td>\n",
       "    </tr>\n",
       "    <tr>\n",
       "      <th>3</th>\n",
       "      <td>0.000</td>\n",
       "      <td>0.000</td>\n",
       "      <td>0.000</td>\n",
       "      <td>0.000</td>\n",
       "      <td>0.000</td>\n",
       "      <td>0.000</td>\n",
       "      <td>0.000</td>\n",
       "      <td>0.000</td>\n",
       "      <td>0.000</td>\n",
       "      <td>0.000</td>\n",
       "      <td>...</td>\n",
       "      <td>0.000</td>\n",
       "      <td>1.000</td>\n",
       "      <td>1.000</td>\n",
       "      <td>0.000</td>\n",
       "      <td>0.089</td>\n",
       "      <td>0.039</td>\n",
       "      <td>-1.361</td>\n",
       "      <td>0.500</td>\n",
       "      <td>0.201</td>\n",
       "      <td>0.000</td>\n",
       "    </tr>\n",
       "    <tr>\n",
       "      <th>4</th>\n",
       "      <td>0.000</td>\n",
       "      <td>0.000</td>\n",
       "      <td>0.000</td>\n",
       "      <td>0.000</td>\n",
       "      <td>0.000</td>\n",
       "      <td>0.000</td>\n",
       "      <td>0.000</td>\n",
       "      <td>0.000</td>\n",
       "      <td>0.000</td>\n",
       "      <td>0.000</td>\n",
       "      <td>...</td>\n",
       "      <td>0.000</td>\n",
       "      <td>1.000</td>\n",
       "      <td>1.000</td>\n",
       "      <td>0.000</td>\n",
       "      <td>0.089</td>\n",
       "      <td>0.039</td>\n",
       "      <td>-1.361</td>\n",
       "      <td>0.500</td>\n",
       "      <td>0.201</td>\n",
       "      <td>0.000</td>\n",
       "    </tr>\n",
       "    <tr>\n",
       "      <th>...</th>\n",
       "      <td>...</td>\n",
       "      <td>...</td>\n",
       "      <td>...</td>\n",
       "      <td>...</td>\n",
       "      <td>...</td>\n",
       "      <td>...</td>\n",
       "      <td>...</td>\n",
       "      <td>...</td>\n",
       "      <td>...</td>\n",
       "      <td>...</td>\n",
       "      <td>...</td>\n",
       "      <td>...</td>\n",
       "      <td>...</td>\n",
       "      <td>...</td>\n",
       "      <td>...</td>\n",
       "      <td>...</td>\n",
       "      <td>...</td>\n",
       "      <td>...</td>\n",
       "      <td>...</td>\n",
       "      <td>...</td>\n",
       "      <td>...</td>\n",
       "    </tr>\n",
       "    <tr>\n",
       "      <th>4336836</th>\n",
       "      <td>0.000</td>\n",
       "      <td>0.000</td>\n",
       "      <td>0.000</td>\n",
       "      <td>0.000</td>\n",
       "      <td>0.000</td>\n",
       "      <td>0.000</td>\n",
       "      <td>0.000</td>\n",
       "      <td>0.000</td>\n",
       "      <td>0.000</td>\n",
       "      <td>0.000</td>\n",
       "      <td>...</td>\n",
       "      <td>0.000</td>\n",
       "      <td>1.000</td>\n",
       "      <td>0.000</td>\n",
       "      <td>1.000</td>\n",
       "      <td>3.504</td>\n",
       "      <td>4.581</td>\n",
       "      <td>1.617</td>\n",
       "      <td>-0.866</td>\n",
       "      <td>-0.938</td>\n",
       "      <td>0.866</td>\n",
       "    </tr>\n",
       "    <tr>\n",
       "      <th>4336837</th>\n",
       "      <td>0.000</td>\n",
       "      <td>0.000</td>\n",
       "      <td>0.000</td>\n",
       "      <td>0.000</td>\n",
       "      <td>0.000</td>\n",
       "      <td>0.000</td>\n",
       "      <td>0.000</td>\n",
       "      <td>0.000</td>\n",
       "      <td>0.000</td>\n",
       "      <td>0.000</td>\n",
       "      <td>...</td>\n",
       "      <td>0.000</td>\n",
       "      <td>1.000</td>\n",
       "      <td>1.000</td>\n",
       "      <td>0.000</td>\n",
       "      <td>3.504</td>\n",
       "      <td>4.581</td>\n",
       "      <td>1.617</td>\n",
       "      <td>-0.866</td>\n",
       "      <td>-0.849</td>\n",
       "      <td>0.866</td>\n",
       "    </tr>\n",
       "    <tr>\n",
       "      <th>4336838</th>\n",
       "      <td>0.000</td>\n",
       "      <td>0.000</td>\n",
       "      <td>0.000</td>\n",
       "      <td>0.000</td>\n",
       "      <td>0.000</td>\n",
       "      <td>0.000</td>\n",
       "      <td>0.000</td>\n",
       "      <td>0.000</td>\n",
       "      <td>0.000</td>\n",
       "      <td>0.000</td>\n",
       "      <td>...</td>\n",
       "      <td>0.000</td>\n",
       "      <td>1.000</td>\n",
       "      <td>1.000</td>\n",
       "      <td>0.000</td>\n",
       "      <td>3.504</td>\n",
       "      <td>4.581</td>\n",
       "      <td>1.617</td>\n",
       "      <td>-0.866</td>\n",
       "      <td>-0.849</td>\n",
       "      <td>0.866</td>\n",
       "    </tr>\n",
       "    <tr>\n",
       "      <th>4336839</th>\n",
       "      <td>0.000</td>\n",
       "      <td>0.000</td>\n",
       "      <td>0.000</td>\n",
       "      <td>0.000</td>\n",
       "      <td>0.000</td>\n",
       "      <td>0.000</td>\n",
       "      <td>0.000</td>\n",
       "      <td>0.000</td>\n",
       "      <td>0.000</td>\n",
       "      <td>0.000</td>\n",
       "      <td>...</td>\n",
       "      <td>0.000</td>\n",
       "      <td>1.000</td>\n",
       "      <td>1.000</td>\n",
       "      <td>0.000</td>\n",
       "      <td>3.504</td>\n",
       "      <td>4.581</td>\n",
       "      <td>1.617</td>\n",
       "      <td>-0.866</td>\n",
       "      <td>-0.571</td>\n",
       "      <td>-0.866</td>\n",
       "    </tr>\n",
       "    <tr>\n",
       "      <th>4336840</th>\n",
       "      <td>0.000</td>\n",
       "      <td>0.000</td>\n",
       "      <td>0.000</td>\n",
       "      <td>0.000</td>\n",
       "      <td>0.000</td>\n",
       "      <td>0.000</td>\n",
       "      <td>0.000</td>\n",
       "      <td>0.000</td>\n",
       "      <td>0.000</td>\n",
       "      <td>0.000</td>\n",
       "      <td>...</td>\n",
       "      <td>0.000</td>\n",
       "      <td>1.000</td>\n",
       "      <td>1.000</td>\n",
       "      <td>0.000</td>\n",
       "      <td>3.504</td>\n",
       "      <td>4.581</td>\n",
       "      <td>1.617</td>\n",
       "      <td>-0.866</td>\n",
       "      <td>-0.394</td>\n",
       "      <td>-0.866</td>\n",
       "    </tr>\n",
       "  </tbody>\n",
       "</table>\n",
       "<p>4336841 rows × 2316 columns</p>\n",
       "</div>"
      ],
      "text/plain": [
       "         0     1     2     3     4     5     6     7     8     9     ...  \\\n",
       "0       0.000 0.000 0.000 0.000 0.000 0.000 0.000 0.000 0.000 0.000  ...   \n",
       "1       0.000 0.000 0.000 0.000 0.000 0.000 0.000 0.000 0.000 0.000  ...   \n",
       "2       0.000 0.000 0.000 0.000 0.000 0.000 0.000 0.000 0.000 0.000  ...   \n",
       "3       0.000 0.000 0.000 0.000 0.000 0.000 0.000 0.000 0.000 0.000  ...   \n",
       "4       0.000 0.000 0.000 0.000 0.000 0.000 0.000 0.000 0.000 0.000  ...   \n",
       "...       ...   ...   ...   ...   ...   ...   ...   ...   ...   ...  ...   \n",
       "4336836 0.000 0.000 0.000 0.000 0.000 0.000 0.000 0.000 0.000 0.000  ...   \n",
       "4336837 0.000 0.000 0.000 0.000 0.000 0.000 0.000 0.000 0.000 0.000  ...   \n",
       "4336838 0.000 0.000 0.000 0.000 0.000 0.000 0.000 0.000 0.000 0.000  ...   \n",
       "4336839 0.000 0.000 0.000 0.000 0.000 0.000 0.000 0.000 0.000 0.000  ...   \n",
       "4336840 0.000 0.000 0.000 0.000 0.000 0.000 0.000 0.000 0.000 0.000  ...   \n",
       "\n",
       "         2306  2307  2308  2309  2310  2311   2312   2313   2314   2315  \n",
       "0       0.000 1.000 1.000 0.000 0.089 0.039 -1.361  0.500  0.201  0.000  \n",
       "1       0.000 1.000 1.000 0.000 0.089 0.039 -1.361  0.500  0.201  0.000  \n",
       "2       0.000 1.000 0.000 1.000 0.089 0.039 -1.361  0.500  0.201  0.000  \n",
       "3       0.000 1.000 1.000 0.000 0.089 0.039 -1.361  0.500  0.201  0.000  \n",
       "4       0.000 1.000 1.000 0.000 0.089 0.039 -1.361  0.500  0.201  0.000  \n",
       "...       ...   ...   ...   ...   ...   ...    ...    ...    ...    ...  \n",
       "4336836 0.000 1.000 0.000 1.000 3.504 4.581  1.617 -0.866 -0.938  0.866  \n",
       "4336837 0.000 1.000 1.000 0.000 3.504 4.581  1.617 -0.866 -0.849  0.866  \n",
       "4336838 0.000 1.000 1.000 0.000 3.504 4.581  1.617 -0.866 -0.849  0.866  \n",
       "4336839 0.000 1.000 1.000 0.000 3.504 4.581  1.617 -0.866 -0.571 -0.866  \n",
       "4336840 0.000 1.000 1.000 0.000 3.504 4.581  1.617 -0.866 -0.394 -0.866  \n",
       "\n",
       "[4336841 rows x 2316 columns]"
      ]
     },
     "execution_count": 3,
     "metadata": {},
     "output_type": "execute_result"
    }
   ],
   "source": [
    "from sklearn.preprocessing import OneHotEncoder, StandardScaler, FunctionTransformer\n",
    "from sklearn.compose import make_column_transformer, make_column_selector\n",
    "\n",
    "\n",
    "def make_sine_cycle_encoder(period: int = 1) -> float:\n",
    "    assert period != 0\n",
    "    return FunctionTransformer(lambda x: np.sin(x / period * 2 * np.pi))\n",
    "\n",
    "\n",
    "# https://scikit-learn.org/stable/modules/sgd.html#tips-on-practical-use\n",
    "def make_df_column_transformer():\n",
    "    categorical_selector = make_column_selector(dtype_include=\"category\")\n",
    "    float_seletor = make_column_selector(dtype_include=\"float64\")\n",
    "    one_hot = OneHotEncoder(sparse_output=True, handle_unknown=\"ignore\")\n",
    "    numerical_scaler = StandardScaler(with_mean=True, with_std=True)\n",
    "    cycle_sine_12 = make_sine_cycle_encoder(period=12)\n",
    "    cycle_sine_31 = make_sine_cycle_encoder(period=31)\n",
    "    cycle_sine_6 = make_sine_cycle_encoder(period=6)\n",
    "    return make_column_transformer(\n",
    "        (one_hot, categorical_selector),\n",
    "        (numerical_scaler, float_seletor),\n",
    "        (numerical_scaler, [\"date_year\"]),\n",
    "        (cycle_sine_12, [\"date_month\"]),\n",
    "        (cycle_sine_31, [\"date_day\"]),\n",
    "        (cycle_sine_6, [\"date_day_of_week\"]),\n",
    "        remainder=\"drop\",\n",
    "        verbose=True,\n",
    "    )\n",
    "\n",
    "\n",
    "preprocessing_df_column_transformer = make_df_column_transformer()\n",
    "X_encoded = preprocessing_df_column_transformer.fit_transform(X)\n",
    "pd.DataFrame.sparse.from_spmatrix(X_encoded)\n"
   ]
  },
  {
   "cell_type": "code",
   "execution_count": 4,
   "metadata": {},
   "outputs": [
    {
     "data": {
      "text/html": [
       "<div>\n",
       "<style scoped>\n",
       "    .dataframe tbody tr th:only-of-type {\n",
       "        vertical-align: middle;\n",
       "    }\n",
       "\n",
       "    .dataframe tbody tr th {\n",
       "        vertical-align: top;\n",
       "    }\n",
       "\n",
       "    .dataframe thead th {\n",
       "        text-align: right;\n",
       "    }\n",
       "</style>\n",
       "<table border=\"1\" class=\"dataframe\">\n",
       "  <thead>\n",
       "    <tr style=\"text-align: right;\">\n",
       "      <th></th>\n",
       "      <th>split</th>\n",
       "      <th>|X|</th>\n",
       "      <th>|y|</th>\n",
       "      <th>%</th>\n",
       "    </tr>\n",
       "  </thead>\n",
       "  <tbody>\n",
       "    <tr>\n",
       "      <th>0</th>\n",
       "      <td>full</td>\n",
       "      <td>4336841</td>\n",
       "      <td>4336841</td>\n",
       "      <td>100.0%</td>\n",
       "    </tr>\n",
       "    <tr>\n",
       "      <th>1</th>\n",
       "      <td>train</td>\n",
       "      <td>4293472</td>\n",
       "      <td>4293472</td>\n",
       "      <td>99.0%</td>\n",
       "    </tr>\n",
       "    <tr>\n",
       "      <th>2</th>\n",
       "      <td>test</td>\n",
       "      <td>43369</td>\n",
       "      <td>43369</td>\n",
       "      <td>1.0%</td>\n",
       "    </tr>\n",
       "  </tbody>\n",
       "</table>\n",
       "</div>"
      ],
      "text/plain": [
       "   split      |X|      |y|       %\n",
       "0   full  4336841  4336841  100.0%\n",
       "1  train  4293472  4293472   99.0%\n",
       "2   test    43369    43369    1.0%"
      ]
     },
     "execution_count": 4,
     "metadata": {},
     "output_type": "execute_result"
    }
   ],
   "source": [
    "from typing import Tuple\n",
    "from sklearn.model_selection import train_test_split\n",
    "\n",
    "\n",
    "def produce_split_summary(\n",
    "    X_split: pd.DataFrame, y_split: pd.DataFrame, name: str, total: int\n",
    ") -> Tuple[str, int, int, str]:\n",
    "    return (\n",
    "        name,\n",
    "        X_split.shape[0],\n",
    "        y_split.shape[0],\n",
    "        \"{:.1f}%\".format(100.0 * X_split.shape[0] / total),\n",
    "    )\n",
    "\n",
    "\n",
    "r = 42\n",
    "train_size = 0.99\n",
    "X1, X2, y1, y2 = train_test_split(X_encoded, y, train_size=train_size, random_state=r)\n",
    "pd.DataFrame(\n",
    "    [\n",
    "        produce_split_summary(X, y, \"full\", total=X.shape[0]),\n",
    "        produce_split_summary(X1, y1, \"train\", total=X.shape[0]),\n",
    "        produce_split_summary(X2, y2, \"test\", total=X.shape[0]),\n",
    "    ],\n",
    "    columns=[\"split\", \"|X|\", \"|y|\", \"%\"],\n",
    ")\n"
   ]
  },
  {
   "cell_type": "code",
   "execution_count": 5,
   "metadata": {},
   "outputs": [
    {
     "name": "stdout",
     "output_type": "stream",
     "text": [
      "Iteration 1, loss = 129946195645.34506226\n"
     ]
    },
    {
     "name": "stderr",
     "output_type": "stream",
     "text": [
      "/Users/hudsonmendes/Workspaces/hudsonmendes-estudos/cm3005-dsc/venv/lib/python3.8/site-packages/sklearn/neural_network/_multilayer_perceptron.py:679: ConvergenceWarning: Stochastic Optimizer: Maximum iterations (1) reached and the optimization hasn't converged yet.\n",
      "  warnings.warn(\n"
     ]
    },
    {
     "data": {
      "text/html": [
       "<div>\n",
       "<style scoped>\n",
       "    .dataframe tbody tr th:only-of-type {\n",
       "        vertical-align: middle;\n",
       "    }\n",
       "\n",
       "    .dataframe tbody tr th {\n",
       "        vertical-align: top;\n",
       "    }\n",
       "\n",
       "    .dataframe thead th {\n",
       "        text-align: right;\n",
       "    }\n",
       "</style>\n",
       "<table border=\"1\" class=\"dataframe\">\n",
       "  <thead>\n",
       "    <tr style=\"text-align: right;\">\n",
       "      <th></th>\n",
       "      <th>spit</th>\n",
       "      <th>score</th>\n",
       "    </tr>\n",
       "  </thead>\n",
       "  <tbody>\n",
       "    <tr>\n",
       "      <th>0</th>\n",
       "      <td>train</td>\n",
       "      <td>-0.624</td>\n",
       "    </tr>\n",
       "    <tr>\n",
       "      <th>1</th>\n",
       "      <td>test</td>\n",
       "      <td>-0.502</td>\n",
       "    </tr>\n",
       "  </tbody>\n",
       "</table>\n",
       "</div>"
      ],
      "text/plain": [
       "    spit  score\n",
       "0  train -0.624\n",
       "1   test -0.502"
      ]
     },
     "execution_count": 5,
     "metadata": {},
     "output_type": "execute_result"
    }
   ],
   "source": [
    "from typing import Tuple\n",
    "from sklearn.neural_network import MLPRegressor\n",
    "\n",
    "\n",
    "def make_model(hidden_layer_sizes: Tuple[int, ...], max_iter: int):\n",
    "    r = 42\n",
    "    return MLPRegressor(\n",
    "        hidden_layer_sizes=hidden_layer_sizes,\n",
    "        validation_fraction=0.01,\n",
    "        random_state=r,\n",
    "        verbose=True,\n",
    "        max_iter=max_iter,\n",
    "    )\n",
    "\n",
    "\n",
    "model = make_model(hidden_layer_sizes=(2,), max_iter=1)\n",
    "model.fit(X1, y1)\n",
    "pd.DataFrame(\n",
    "    [\n",
    "        (\"train\", model.score(X1, y1)),\n",
    "        (\"test\", model.score(X2, y2)),\n",
    "    ],\n",
    "    columns=[\"spit\", \"score\"],\n",
    ")\n"
   ]
  },
  {
   "cell_type": "code",
   "execution_count": 6,
   "metadata": {},
   "outputs": [
    {
     "data": {
      "text/html": [
       "<style>#sk-container-id-1 {color: black;background-color: white;}#sk-container-id-1 pre{padding: 0;}#sk-container-id-1 div.sk-toggleable {background-color: white;}#sk-container-id-1 label.sk-toggleable__label {cursor: pointer;display: block;width: 100%;margin-bottom: 0;padding: 0.3em;box-sizing: border-box;text-align: center;}#sk-container-id-1 label.sk-toggleable__label-arrow:before {content: \"▸\";float: left;margin-right: 0.25em;color: #696969;}#sk-container-id-1 label.sk-toggleable__label-arrow:hover:before {color: black;}#sk-container-id-1 div.sk-estimator:hover label.sk-toggleable__label-arrow:before {color: black;}#sk-container-id-1 div.sk-toggleable__content {max-height: 0;max-width: 0;overflow: hidden;text-align: left;background-color: #f0f8ff;}#sk-container-id-1 div.sk-toggleable__content pre {margin: 0.2em;color: black;border-radius: 0.25em;background-color: #f0f8ff;}#sk-container-id-1 input.sk-toggleable__control:checked~div.sk-toggleable__content {max-height: 200px;max-width: 100%;overflow: auto;}#sk-container-id-1 input.sk-toggleable__control:checked~label.sk-toggleable__label-arrow:before {content: \"▾\";}#sk-container-id-1 div.sk-estimator input.sk-toggleable__control:checked~label.sk-toggleable__label {background-color: #d4ebff;}#sk-container-id-1 div.sk-label input.sk-toggleable__control:checked~label.sk-toggleable__label {background-color: #d4ebff;}#sk-container-id-1 input.sk-hidden--visually {border: 0;clip: rect(1px 1px 1px 1px);clip: rect(1px, 1px, 1px, 1px);height: 1px;margin: -1px;overflow: hidden;padding: 0;position: absolute;width: 1px;}#sk-container-id-1 div.sk-estimator {font-family: monospace;background-color: #f0f8ff;border: 1px dotted black;border-radius: 0.25em;box-sizing: border-box;margin-bottom: 0.5em;}#sk-container-id-1 div.sk-estimator:hover {background-color: #d4ebff;}#sk-container-id-1 div.sk-parallel-item::after {content: \"\";width: 100%;border-bottom: 1px solid gray;flex-grow: 1;}#sk-container-id-1 div.sk-label:hover label.sk-toggleable__label {background-color: #d4ebff;}#sk-container-id-1 div.sk-serial::before {content: \"\";position: absolute;border-left: 1px solid gray;box-sizing: border-box;top: 0;bottom: 0;left: 50%;z-index: 0;}#sk-container-id-1 div.sk-serial {display: flex;flex-direction: column;align-items: center;background-color: white;padding-right: 0.2em;padding-left: 0.2em;position: relative;}#sk-container-id-1 div.sk-item {position: relative;z-index: 1;}#sk-container-id-1 div.sk-parallel {display: flex;align-items: stretch;justify-content: center;background-color: white;position: relative;}#sk-container-id-1 div.sk-item::before, #sk-container-id-1 div.sk-parallel-item::before {content: \"\";position: absolute;border-left: 1px solid gray;box-sizing: border-box;top: 0;bottom: 0;left: 50%;z-index: -1;}#sk-container-id-1 div.sk-parallel-item {display: flex;flex-direction: column;z-index: 1;position: relative;background-color: white;}#sk-container-id-1 div.sk-parallel-item:first-child::after {align-self: flex-end;width: 50%;}#sk-container-id-1 div.sk-parallel-item:last-child::after {align-self: flex-start;width: 50%;}#sk-container-id-1 div.sk-parallel-item:only-child::after {width: 0;}#sk-container-id-1 div.sk-dashed-wrapped {border: 1px dashed gray;margin: 0 0.4em 0.5em 0.4em;box-sizing: border-box;padding-bottom: 0.4em;background-color: white;}#sk-container-id-1 div.sk-label label {font-family: monospace;font-weight: bold;display: inline-block;line-height: 1.2em;}#sk-container-id-1 div.sk-label-container {text-align: center;}#sk-container-id-1 div.sk-container {/* jupyter's `normalize.less` sets `[hidden] { display: none; }` but bootstrap.min.css set `[hidden] { display: none !important; }` so we also need the `!important` here to be able to override the default hidden behavior on the sphinx rendered scikit-learn.org. See: https://github.com/scikit-learn/scikit-learn/issues/21755 */display: inline-block !important;position: relative;}#sk-container-id-1 div.sk-text-repr-fallback {display: none;}</style><div id=\"sk-container-id-1\" class=\"sk-top-container\"><div class=\"sk-text-repr-fallback\"><pre>GridSearchCV(cv=3,\n",
       "             estimator=MLPRegressor(hidden_layer_sizes=(2,), max_iter=1,\n",
       "                                    random_state=42, validation_fraction=0.01,\n",
       "                                    verbose=True),\n",
       "             param_grid={&#x27;hidden_layer_sizes&#x27;: [(2,), (2, 2), (2, 4), (4,),\n",
       "                                                (4, 2), (4, 4), (8,), (8, 2),\n",
       "                                                (8, 4), (16,), (16, 2),\n",
       "                                                (16, 4)],\n",
       "                         &#x27;max_iter&#x27;: [10]},\n",
       "             verbose=True)</pre><b>In a Jupyter environment, please rerun this cell to show the HTML representation or trust the notebook. <br />On GitHub, the HTML representation is unable to render, please try loading this page with nbviewer.org.</b></div><div class=\"sk-container\" hidden><div class=\"sk-item sk-dashed-wrapped\"><div class=\"sk-label-container\"><div class=\"sk-label sk-toggleable\"><input class=\"sk-toggleable__control sk-hidden--visually\" id=\"sk-estimator-id-1\" type=\"checkbox\" ><label for=\"sk-estimator-id-1\" class=\"sk-toggleable__label sk-toggleable__label-arrow\">GridSearchCV</label><div class=\"sk-toggleable__content\"><pre>GridSearchCV(cv=3,\n",
       "             estimator=MLPRegressor(hidden_layer_sizes=(2,), max_iter=1,\n",
       "                                    random_state=42, validation_fraction=0.01,\n",
       "                                    verbose=True),\n",
       "             param_grid={&#x27;hidden_layer_sizes&#x27;: [(2,), (2, 2), (2, 4), (4,),\n",
       "                                                (4, 2), (4, 4), (8,), (8, 2),\n",
       "                                                (8, 4), (16,), (16, 2),\n",
       "                                                (16, 4)],\n",
       "                         &#x27;max_iter&#x27;: [10]},\n",
       "             verbose=True)</pre></div></div></div><div class=\"sk-parallel\"><div class=\"sk-parallel-item\"><div class=\"sk-item\"><div class=\"sk-label-container\"><div class=\"sk-label sk-toggleable\"><input class=\"sk-toggleable__control sk-hidden--visually\" id=\"sk-estimator-id-2\" type=\"checkbox\" ><label for=\"sk-estimator-id-2\" class=\"sk-toggleable__label sk-toggleable__label-arrow\">estimator: MLPRegressor</label><div class=\"sk-toggleable__content\"><pre>MLPRegressor(hidden_layer_sizes=(2,), max_iter=1, random_state=42,\n",
       "             validation_fraction=0.01, verbose=True)</pre></div></div></div><div class=\"sk-serial\"><div class=\"sk-item\"><div class=\"sk-estimator sk-toggleable\"><input class=\"sk-toggleable__control sk-hidden--visually\" id=\"sk-estimator-id-3\" type=\"checkbox\" ><label for=\"sk-estimator-id-3\" class=\"sk-toggleable__label sk-toggleable__label-arrow\">MLPRegressor</label><div class=\"sk-toggleable__content\"><pre>MLPRegressor(hidden_layer_sizes=(2,), max_iter=1, random_state=42,\n",
       "             validation_fraction=0.01, verbose=True)</pre></div></div></div></div></div></div></div></div></div></div>"
      ],
      "text/plain": [
       "GridSearchCV(cv=3,\n",
       "             estimator=MLPRegressor(hidden_layer_sizes=(2,), max_iter=1,\n",
       "                                    random_state=42, validation_fraction=0.01,\n",
       "                                    verbose=True),\n",
       "             param_grid={'hidden_layer_sizes': [(2,), (2, 2), (2, 4), (4,),\n",
       "                                                (4, 2), (4, 4), (8,), (8, 2),\n",
       "                                                (8, 4), (16,), (16, 2),\n",
       "                                                (16, 4)],\n",
       "                         'max_iter': [10]},\n",
       "             verbose=True)"
      ]
     },
     "execution_count": 6,
     "metadata": {},
     "output_type": "execute_result"
    }
   ],
   "source": [
    "import itertools\n",
    "import numpy as np\n",
    "from typing import Set, List, Tuple\n",
    "from sklearn.model_selection import GridSearchCV\n",
    "\n",
    "\n",
    "def make_grid_hidden_layer_tuples(\n",
    "    max_l1_power: int,\n",
    "    max_l2_power: int,\n",
    ") -> List[Tuple[int, ...]]:\n",
    "    assert max_l1_power > 1, \"l1 must have no less than 2^1 perceptrons\"\n",
    "    assert max_l2_power > 0, \"when present, l2 can have no less than 2^0 perceptrons\"\n",
    "    configs: Set[Tuple[int, ...]] = set()\n",
    "    l1_power_range = list(np.arange(1, max_l1_power+1))\n",
    "    l2_power_range = list(np.arange(1, max_l2_power+1))\n",
    "    l1_l2_cartesian_product = itertools.product(l1_power_range, l2_power_range)\n",
    "    for l1_power in l1_power_range:\n",
    "        configs.add((2**l1_power,))\n",
    "    for l1_power, l2_power in l1_l2_cartesian_product:\n",
    "        configs.add((2**l1_power, 2**l2_power))\n",
    "    return sorted(configs)\n",
    "\n",
    "\n",
    "grid = GridSearchCV(\n",
    "    model,\n",
    "    param_grid={\n",
    "        \"hidden_layer_sizes\": make_grid_hidden_layer_tuples(4, 2),\n",
    "        \"max_iter\": [10],\n",
    "    },\n",
    "    cv=3,\n",
    "    verbose=True,\n",
    ")\n",
    "grid\n"
   ]
  },
  {
   "cell_type": "code",
   "execution_count": 8,
   "metadata": {},
   "outputs": [
    {
     "name": "stdout",
     "output_type": "stream",
     "text": [
      "Fitting 3 folds for each of 12 candidates, totalling 36 fits\n",
      "Iteration 1, loss = 124830286482.92813110\n",
      "Iteration 2, loss = 124087534972.05619812\n",
      "Iteration 3, loss = 122761248351.79388428\n",
      "Iteration 4, loss = 120888345748.02589417\n",
      "Iteration 5, loss = 118513819716.17665100\n",
      "Iteration 6, loss = 115685989347.30360413\n",
      "Iteration 7, loss = 112462400795.03923035\n",
      "Iteration 8, loss = 108914152303.35237122\n",
      "Iteration 9, loss = 105128001658.32881165\n",
      "Iteration 10, loss = 101177786704.86152649\n"
     ]
    },
    {
     "name": "stderr",
     "output_type": "stream",
     "text": [
      "/Users/hudsonmendes/Workspaces/hudsonmendes-estudos/cm3005-dsc/venv/lib/python3.8/site-packages/sklearn/neural_network/_multilayer_perceptron.py:679: ConvergenceWarning: Stochastic Optimizer: Maximum iterations (10) reached and the optimization hasn't converged yet.\n",
      "  warnings.warn(\n"
     ]
    },
    {
     "name": "stdout",
     "output_type": "stream",
     "text": [
      "Iteration 1, loss = 131775148953.54466248\n",
      "Iteration 2, loss = 131033854928.49105835\n",
      "Iteration 3, loss = 129708937105.20205688\n",
      "Iteration 4, loss = 127838367793.78129578\n",
      "Iteration 5, loss = 125465631138.13539124\n",
      "Iteration 6, loss = 122640413669.09478760\n",
      "Iteration 7, loss = 119417746733.78684998\n",
      "Iteration 8, loss = 115873877365.35295105\n",
      "Iteration 9, loss = 112086200570.77911377\n",
      "Iteration 10, loss = 108138210173.43983459\n"
     ]
    },
    {
     "name": "stderr",
     "output_type": "stream",
     "text": [
      "/Users/hudsonmendes/Workspaces/hudsonmendes-estudos/cm3005-dsc/venv/lib/python3.8/site-packages/sklearn/neural_network/_multilayer_perceptron.py:679: ConvergenceWarning: Stochastic Optimizer: Maximum iterations (10) reached and the optimization hasn't converged yet.\n",
      "  warnings.warn(\n"
     ]
    },
    {
     "name": "stdout",
     "output_type": "stream",
     "text": [
      "Iteration 1, loss = 133715803753.06814575\n",
      "Iteration 2, loss = 132974469025.20831299\n",
      "Iteration 3, loss = 131650738986.65284729\n",
      "Iteration 4, loss = 129779905862.49253845\n",
      "Iteration 5, loss = 127407771444.72731018\n",
      "Iteration 6, loss = 124580133819.76199341\n",
      "Iteration 7, loss = 121356157116.68882751\n",
      "Iteration 8, loss = 117814722123.86485291\n",
      "Iteration 9, loss = 114025783633.95823669\n",
      "Iteration 10, loss = 110081880737.39007568\n"
     ]
    },
    {
     "name": "stderr",
     "output_type": "stream",
     "text": [
      "/Users/hudsonmendes/Workspaces/hudsonmendes-estudos/cm3005-dsc/venv/lib/python3.8/site-packages/sklearn/neural_network/_multilayer_perceptron.py:679: ConvergenceWarning: Stochastic Optimizer: Maximum iterations (10) reached and the optimization hasn't converged yet.\n",
      "  warnings.warn(\n"
     ]
    },
    {
     "name": "stdout",
     "output_type": "stream",
     "text": [
      "Iteration 1, loss = 124236364648.22491455\n",
      "Iteration 2, loss = 96387125078.08433533\n",
      "Iteration 3, loss = 72372211098.74945068\n",
      "Iteration 4, loss = 68806071295.74662781\n",
      "Iteration 5, loss = 66622187641.44075012\n",
      "Iteration 6, loss = 64554512590.80952454\n",
      "Iteration 7, loss = 62242126486.75620270\n",
      "Iteration 8, loss = 59932856331.74103546\n",
      "Iteration 9, loss = 58041468435.37225342\n",
      "Iteration 10, loss = 56674259205.56139374\n"
     ]
    },
    {
     "name": "stderr",
     "output_type": "stream",
     "text": [
      "/Users/hudsonmendes/Workspaces/hudsonmendes-estudos/cm3005-dsc/venv/lib/python3.8/site-packages/sklearn/neural_network/_multilayer_perceptron.py:679: ConvergenceWarning: Stochastic Optimizer: Maximum iterations (10) reached and the optimization hasn't converged yet.\n",
      "  warnings.warn(\n"
     ]
    },
    {
     "name": "stdout",
     "output_type": "stream",
     "text": [
      "Iteration 1, loss = 131864918486.72239685\n",
      "Iteration 2, loss = 131536617439.64321899\n",
      "Iteration 3, loss = 130940957334.30990601\n",
      "Iteration 4, loss = 130089590747.71334839\n",
      "Iteration 5, loss = 128989918017.32218933\n",
      "Iteration 6, loss = 127652804147.93243408\n",
      "Iteration 7, loss = 126088114956.12570190\n",
      "Iteration 8, loss = 124310483572.82542419\n",
      "Iteration 9, loss = 122336858137.08219910\n",
      "Iteration 10, loss = 120183305693.39410400\n"
     ]
    },
    {
     "name": "stderr",
     "output_type": "stream",
     "text": [
      "/Users/hudsonmendes/Workspaces/hudsonmendes-estudos/cm3005-dsc/venv/lib/python3.8/site-packages/sklearn/neural_network/_multilayer_perceptron.py:679: ConvergenceWarning: Stochastic Optimizer: Maximum iterations (10) reached and the optimization hasn't converged yet.\n",
      "  warnings.warn(\n"
     ]
    },
    {
     "name": "stdout",
     "output_type": "stream",
     "text": [
      "Iteration 1, loss = 132568844180.65184021\n",
      "Iteration 2, loss = 109272648024.83769226\n",
      "Iteration 3, loss = 83409675967.99601746\n",
      "Iteration 4, loss = 79425539997.12681580\n",
      "Iteration 5, loss = 77198974048.47286987\n",
      "Iteration 6, loss = 75637551699.11759949\n",
      "Iteration 7, loss = 74151792356.92430115\n",
      "Iteration 8, loss = 72517998751.08335876\n",
      "Iteration 9, loss = 70765704342.11015320\n",
      "Iteration 10, loss = 69022176331.06436157\n"
     ]
    },
    {
     "name": "stderr",
     "output_type": "stream",
     "text": [
      "/Users/hudsonmendes/Workspaces/hudsonmendes-estudos/cm3005-dsc/venv/lib/python3.8/site-packages/sklearn/neural_network/_multilayer_perceptron.py:679: ConvergenceWarning: Stochastic Optimizer: Maximum iterations (10) reached and the optimization hasn't converged yet.\n",
      "  warnings.warn(\n"
     ]
    },
    {
     "name": "stdout",
     "output_type": "stream",
     "text": [
      "Iteration 1, loss = 117515597578.22384644\n",
      "Iteration 2, loss = 82418196713.72044373\n",
      "Iteration 3, loss = 71708892141.94647217\n",
      "Iteration 4, loss = 68997591930.53086853\n",
      "Iteration 5, loss = 67186709352.89463043\n",
      "Iteration 6, loss = 65556932666.09533691\n",
      "Iteration 7, loss = 63758852818.74778748\n",
      "Iteration 8, loss = 61756876418.53464508\n",
      "Iteration 9, loss = 59806486374.22587585\n",
      "Iteration 10, loss = 58207954778.05508423\n"
     ]
    },
    {
     "name": "stderr",
     "output_type": "stream",
     "text": [
      "/Users/hudsonmendes/Workspaces/hudsonmendes-estudos/cm3005-dsc/venv/lib/python3.8/site-packages/sklearn/neural_network/_multilayer_perceptron.py:679: ConvergenceWarning: Stochastic Optimizer: Maximum iterations (10) reached and the optimization hasn't converged yet.\n",
      "  warnings.warn(\n"
     ]
    },
    {
     "name": "stdout",
     "output_type": "stream",
     "text": [
      "Iteration 1, loss = 126666553612.24702454\n",
      "Iteration 2, loss = 95722033534.76936340\n",
      "Iteration 3, loss = 79772003782.25621033\n",
      "Iteration 4, loss = 76972844119.23652649\n",
      "Iteration 5, loss = 75056059001.75180054\n",
      "Iteration 6, loss = 73598739852.36347961\n",
      "Iteration 7, loss = 72177947418.51100159\n",
      "Iteration 8, loss = 70623334468.84890747\n",
      "Iteration 9, loss = 68905986665.15412903\n",
      "Iteration 10, loss = 67233013404.39627838\n"
     ]
    },
    {
     "name": "stderr",
     "output_type": "stream",
     "text": [
      "/Users/hudsonmendes/Workspaces/hudsonmendes-estudos/cm3005-dsc/venv/lib/python3.8/site-packages/sklearn/neural_network/_multilayer_perceptron.py:679: ConvergenceWarning: Stochastic Optimizer: Maximum iterations (10) reached and the optimization hasn't converged yet.\n",
      "  warnings.warn(\n"
     ]
    },
    {
     "name": "stdout",
     "output_type": "stream",
     "text": [
      "Iteration 1, loss = 128604927040.08221436\n",
      "Iteration 2, loss = 97645205440.13941956\n",
      "Iteration 3, loss = 81666472261.60209656\n",
      "Iteration 4, loss = 78860234805.94161987\n",
      "Iteration 5, loss = 76932085399.59199524\n",
      "Iteration 6, loss = 75485570973.22329712\n",
      "Iteration 7, loss = 74046358966.75100708\n",
      "Iteration 8, loss = 72486649487.46809387\n",
      "Iteration 9, loss = 70781048398.56573486\n",
      "Iteration 10, loss = 69092425364.74711609\n"
     ]
    },
    {
     "name": "stderr",
     "output_type": "stream",
     "text": [
      "/Users/hudsonmendes/Workspaces/hudsonmendes-estudos/cm3005-dsc/venv/lib/python3.8/site-packages/sklearn/neural_network/_multilayer_perceptron.py:679: ConvergenceWarning: Stochastic Optimizer: Maximum iterations (10) reached and the optimization hasn't converged yet.\n",
      "  warnings.warn(\n"
     ]
    },
    {
     "name": "stdout",
     "output_type": "stream",
     "text": [
      "Iteration 1, loss = 124836320705.43164062\n",
      "Iteration 2, loss = 124105448663.08364868\n",
      "Iteration 3, loss = 122790128581.85160828\n",
      "Iteration 4, loss = 120928972430.00918579\n",
      "Iteration 5, loss = 118562626542.75910950\n",
      "Iteration 6, loss = 115741566162.64810181\n",
      "Iteration 7, loss = 112524643375.37693787\n",
      "Iteration 8, loss = 108986771092.30848694\n",
      "Iteration 9, loss = 105201037360.61917114\n",
      "Iteration 10, loss = 101254159203.30688477\n"
     ]
    },
    {
     "name": "stderr",
     "output_type": "stream",
     "text": [
      "/Users/hudsonmendes/Workspaces/hudsonmendes-estudos/cm3005-dsc/venv/lib/python3.8/site-packages/sklearn/neural_network/_multilayer_perceptron.py:679: ConvergenceWarning: Stochastic Optimizer: Maximum iterations (10) reached and the optimization hasn't converged yet.\n",
      "  warnings.warn(\n"
     ]
    },
    {
     "name": "stdout",
     "output_type": "stream",
     "text": [
      "Iteration 1, loss = 131781255651.32051086\n",
      "Iteration 2, loss = 131051069816.98878479\n",
      "Iteration 3, loss = 129737186333.31292725\n",
      "Iteration 4, loss = 127877611912.85206604\n",
      "Iteration 5, loss = 125514370673.58100891\n",
      "Iteration 6, loss = 122695353545.32258606\n",
      "Iteration 7, loss = 119483091709.34849548\n",
      "Iteration 8, loss = 115942982057.05834961\n",
      "Iteration 9, loss = 112157358135.11621094\n",
      "Iteration 10, loss = 108215239542.25213623\n"
     ]
    },
    {
     "name": "stderr",
     "output_type": "stream",
     "text": [
      "/Users/hudsonmendes/Workspaces/hudsonmendes-estudos/cm3005-dsc/venv/lib/python3.8/site-packages/sklearn/neural_network/_multilayer_perceptron.py:679: ConvergenceWarning: Stochastic Optimizer: Maximum iterations (10) reached and the optimization hasn't converged yet.\n",
      "  warnings.warn(\n"
     ]
    },
    {
     "name": "stdout",
     "output_type": "stream",
     "text": [
      "Iteration 1, loss = 133721922119.90147400\n",
      "Iteration 2, loss = 132990924821.28218079\n",
      "Iteration 3, loss = 131677655401.94203186\n",
      "Iteration 4, loss = 129817645882.70385742\n",
      "Iteration 5, loss = 127455261084.86761475\n",
      "Iteration 6, loss = 124637110368.29272461\n",
      "Iteration 7, loss = 121425054621.42764282\n",
      "Iteration 8, loss = 117884837561.03421021\n",
      "Iteration 9, loss = 114098576124.00296021\n",
      "Iteration 10, loss = 110153753679.55886841\n"
     ]
    },
    {
     "name": "stderr",
     "output_type": "stream",
     "text": [
      "/Users/hudsonmendes/Workspaces/hudsonmendes-estudos/cm3005-dsc/venv/lib/python3.8/site-packages/sklearn/neural_network/_multilayer_perceptron.py:679: ConvergenceWarning: Stochastic Optimizer: Maximum iterations (10) reached and the optimization hasn't converged yet.\n",
      "  warnings.warn(\n"
     ]
    },
    {
     "name": "stdout",
     "output_type": "stream",
     "text": [
      "Iteration 1, loss = 124985922503.38796997\n",
      "Iteration 2, loss = 124981388450.43879700\n",
      "Iteration 3, loss = 124976855434.72967529\n",
      "Iteration 4, loss = 124972322280.45765686\n",
      "Iteration 5, loss = 124967789535.44671631\n",
      "Iteration 6, loss = 124963254462.95983887\n",
      "Iteration 7, loss = 124958725727.79652405\n",
      "Iteration 8, loss = 124954194228.65174866\n",
      "Iteration 9, loss = 124949661294.28694153\n",
      "Iteration 10, loss = 124945129706.64427185\n"
     ]
    },
    {
     "name": "stderr",
     "output_type": "stream",
     "text": [
      "/Users/hudsonmendes/Workspaces/hudsonmendes-estudos/cm3005-dsc/venv/lib/python3.8/site-packages/sklearn/neural_network/_multilayer_perceptron.py:679: ConvergenceWarning: Stochastic Optimizer: Maximum iterations (10) reached and the optimization hasn't converged yet.\n",
      "  warnings.warn(\n"
     ]
    },
    {
     "name": "stdout",
     "output_type": "stream",
     "text": [
      "Iteration 1, loss = 131930727719.73588562\n",
      "Iteration 2, loss = 131926192888.13061523\n",
      "Iteration 3, loss = 131921657183.51791382\n",
      "Iteration 4, loss = 131917121334.78271484\n",
      "Iteration 5, loss = 131912591623.20144653\n",
      "Iteration 6, loss = 131908057675.11274719\n",
      "Iteration 7, loss = 131903521573.53535461\n",
      "Iteration 8, loss = 131898989402.75111389\n",
      "Iteration 9, loss = 131894455942.58581543\n",
      "Iteration 10, loss = 131889925359.82275391\n"
     ]
    },
    {
     "name": "stderr",
     "output_type": "stream",
     "text": [
      "/Users/hudsonmendes/Workspaces/hudsonmendes-estudos/cm3005-dsc/venv/lib/python3.8/site-packages/sklearn/neural_network/_multilayer_perceptron.py:679: ConvergenceWarning: Stochastic Optimizer: Maximum iterations (10) reached and the optimization hasn't converged yet.\n",
      "  warnings.warn(\n"
     ]
    },
    {
     "name": "stdout",
     "output_type": "stream",
     "text": [
      "Iteration 1, loss = 133871414590.00161743\n",
      "Iteration 2, loss = 133866878212.20703125\n",
      "Iteration 3, loss = 133862343617.79426575\n",
      "Iteration 4, loss = 133857806257.41773987\n",
      "Iteration 5, loss = 133736157975.98997498\n",
      "Iteration 6, loss = 120913047223.60853577\n",
      "Iteration 7, loss = 88742820946.81266785\n",
      "Iteration 8, loss = 80694228438.45892334\n",
      "Iteration 9, loss = 78214743758.56144714\n",
      "Iteration 10, loss = 76500792788.29118347\n"
     ]
    },
    {
     "name": "stderr",
     "output_type": "stream",
     "text": [
      "/Users/hudsonmendes/Workspaces/hudsonmendes-estudos/cm3005-dsc/venv/lib/python3.8/site-packages/sklearn/neural_network/_multilayer_perceptron.py:679: ConvergenceWarning: Stochastic Optimizer: Maximum iterations (10) reached and the optimization hasn't converged yet.\n",
      "  warnings.warn(\n"
     ]
    },
    {
     "name": "stdout",
     "output_type": "stream",
     "text": [
      "Iteration 1, loss = 115463315004.39649963\n",
      "Iteration 2, loss = 78879302452.98794556\n",
      "Iteration 3, loss = 70920191490.87364197\n",
      "Iteration 4, loss = 68306268222.21558380\n",
      "Iteration 5, loss = 66486744985.71060181\n",
      "Iteration 6, loss = 64647858745.08663177\n",
      "Iteration 7, loss = 62545391248.78893280\n",
      "Iteration 8, loss = 60365456861.81955719\n",
      "Iteration 9, loss = 58495318085.62915802\n",
      "Iteration 10, loss = 57121109649.52794647\n"
     ]
    },
    {
     "name": "stderr",
     "output_type": "stream",
     "text": [
      "/Users/hudsonmendes/Workspaces/hudsonmendes-estudos/cm3005-dsc/venv/lib/python3.8/site-packages/sklearn/neural_network/_multilayer_perceptron.py:679: ConvergenceWarning: Stochastic Optimizer: Maximum iterations (10) reached and the optimization hasn't converged yet.\n",
      "  warnings.warn(\n"
     ]
    },
    {
     "name": "stdout",
     "output_type": "stream",
     "text": [
      "Iteration 1, loss = 122422973376.31385803\n",
      "Iteration 2, loss = 85839333414.08764648\n",
      "Iteration 3, loss = 77803318833.69296265\n",
      "Iteration 4, loss = 75202747801.35908508\n",
      "Iteration 5, loss = 73380625395.07757568\n",
      "Iteration 6, loss = 71576967997.87904358\n",
      "Iteration 7, loss = 69503870877.69923401\n",
      "Iteration 8, loss = 67404610508.89488220\n",
      "Iteration 9, loss = 65526781755.32890320\n",
      "Iteration 10, loss = 64136275330.99365997\n"
     ]
    },
    {
     "name": "stderr",
     "output_type": "stream",
     "text": [
      "/Users/hudsonmendes/Workspaces/hudsonmendes-estudos/cm3005-dsc/venv/lib/python3.8/site-packages/sklearn/neural_network/_multilayer_perceptron.py:679: ConvergenceWarning: Stochastic Optimizer: Maximum iterations (10) reached and the optimization hasn't converged yet.\n",
      "  warnings.warn(\n"
     ]
    },
    {
     "name": "stdout",
     "output_type": "stream",
     "text": [
      "Iteration 1, loss = 124363546856.28405762\n",
      "Iteration 2, loss = 87755818943.02082825\n",
      "Iteration 3, loss = 79707635557.95428467\n",
      "Iteration 4, loss = 77091939629.93315125\n",
      "Iteration 5, loss = 75264407034.13099670\n",
      "Iteration 6, loss = 73468215699.39068604\n",
      "Iteration 7, loss = 71379865127.23489380\n",
      "Iteration 8, loss = 69272962897.19908142\n",
      "Iteration 9, loss = 67384620248.55540466\n",
      "Iteration 10, loss = 65971632583.23898315\n"
     ]
    },
    {
     "name": "stderr",
     "output_type": "stream",
     "text": [
      "/Users/hudsonmendes/Workspaces/hudsonmendes-estudos/cm3005-dsc/venv/lib/python3.8/site-packages/sklearn/neural_network/_multilayer_perceptron.py:679: ConvergenceWarning: Stochastic Optimizer: Maximum iterations (10) reached and the optimization hasn't converged yet.\n",
      "  warnings.warn(\n"
     ]
    },
    {
     "name": "stdout",
     "output_type": "stream",
     "text": [
      "Iteration 1, loss = 124090212531.98536682\n",
      "Iteration 2, loss = 119867370523.59092712\n",
      "Iteration 3, loss = 112720087841.77659607\n",
      "Iteration 4, loss = 103651837641.64413452\n",
      "Iteration 5, loss = 93922156297.39439392\n",
      "Iteration 6, loss = 84975705929.08099365\n",
      "Iteration 7, loss = 78262269559.21670532\n",
      "Iteration 8, loss = 74581152625.09765625\n",
      "Iteration 9, loss = 73102340410.36605835\n",
      "Iteration 10, loss = 72155340339.73506165\n"
     ]
    },
    {
     "name": "stderr",
     "output_type": "stream",
     "text": [
      "/Users/hudsonmendes/Workspaces/hudsonmendes-estudos/cm3005-dsc/venv/lib/python3.8/site-packages/sklearn/neural_network/_multilayer_perceptron.py:679: ConvergenceWarning: Stochastic Optimizer: Maximum iterations (10) reached and the optimization hasn't converged yet.\n",
      "  warnings.warn(\n"
     ]
    },
    {
     "name": "stdout",
     "output_type": "stream",
     "text": [
      "Iteration 1, loss = 131035450577.82682800\n",
      "Iteration 2, loss = 126816325842.24220276\n",
      "Iteration 3, loss = 119691454211.66090393\n",
      "Iteration 4, loss = 110617834843.53369141\n",
      "Iteration 5, loss = 100882056821.89360046\n",
      "Iteration 6, loss = 91933964589.48237610\n",
      "Iteration 7, loss = 85216033253.75907898\n",
      "Iteration 8, loss = 81521511628.64721680\n",
      "Iteration 9, loss = 80013884420.76190186\n",
      "Iteration 10, loss = 79064871740.05729675\n"
     ]
    },
    {
     "name": "stderr",
     "output_type": "stream",
     "text": [
      "/Users/hudsonmendes/Workspaces/hudsonmendes-estudos/cm3005-dsc/venv/lib/python3.8/site-packages/sklearn/neural_network/_multilayer_perceptron.py:679: ConvergenceWarning: Stochastic Optimizer: Maximum iterations (10) reached and the optimization hasn't converged yet.\n",
      "  warnings.warn(\n"
     ]
    },
    {
     "name": "stdout",
     "output_type": "stream",
     "text": [
      "Iteration 1, loss = 132977148172.04339600\n",
      "Iteration 2, loss = 128758978698.39556885\n",
      "Iteration 3, loss = 121633520626.31825256\n",
      "Iteration 4, loss = 112557384858.54319763\n",
      "Iteration 5, loss = 102824020518.43115234\n",
      "Iteration 6, loss = 93870155937.65893555\n",
      "Iteration 7, loss = 87133317660.18243408\n",
      "Iteration 8, loss = 83426035865.29217529\n",
      "Iteration 9, loss = 81913264632.62884521\n",
      "Iteration 10, loss = 80961107317.31297302\n"
     ]
    },
    {
     "name": "stderr",
     "output_type": "stream",
     "text": [
      "/Users/hudsonmendes/Workspaces/hudsonmendes-estudos/cm3005-dsc/venv/lib/python3.8/site-packages/sklearn/neural_network/_multilayer_perceptron.py:679: ConvergenceWarning: Stochastic Optimizer: Maximum iterations (10) reached and the optimization hasn't converged yet.\n",
      "  warnings.warn(\n"
     ]
    },
    {
     "name": "stdout",
     "output_type": "stream",
     "text": [
      "Iteration 1, loss = 111365905905.11849976\n",
      "Iteration 2, loss = 74974350127.36369324\n",
      "Iteration 3, loss = 69539820376.29696655\n",
      "Iteration 4, loss = 67066641024.62052155\n",
      "Iteration 5, loss = 64926007344.76058197\n",
      "Iteration 6, loss = 62471973405.19480896\n",
      "Iteration 7, loss = 59957060125.02518463\n",
      "Iteration 8, loss = 57957743364.23222351\n",
      "Iteration 9, loss = 56552743294.05723572\n",
      "Iteration 10, loss = 55526440278.45391846\n"
     ]
    },
    {
     "name": "stderr",
     "output_type": "stream",
     "text": [
      "/Users/hudsonmendes/Workspaces/hudsonmendes-estudos/cm3005-dsc/venv/lib/python3.8/site-packages/sklearn/neural_network/_multilayer_perceptron.py:679: ConvergenceWarning: Stochastic Optimizer: Maximum iterations (10) reached and the optimization hasn't converged yet.\n",
      "  warnings.warn(\n"
     ]
    },
    {
     "name": "stdout",
     "output_type": "stream",
     "text": [
      "Iteration 1, loss = 118328376226.66360474\n",
      "Iteration 2, loss = 81888684255.04776001\n",
      "Iteration 3, loss = 76429927645.05487061\n",
      "Iteration 4, loss = 73940747432.09065247\n",
      "Iteration 5, loss = 71818970007.22769165\n",
      "Iteration 6, loss = 69453656865.21847534\n",
      "Iteration 7, loss = 66992725444.18756104\n",
      "Iteration 8, loss = 64972236152.21999359\n",
      "Iteration 9, loss = 63532346657.67842865\n",
      "Iteration 10, loss = 62491091916.18412018\n"
     ]
    },
    {
     "name": "stderr",
     "output_type": "stream",
     "text": [
      "/Users/hudsonmendes/Workspaces/hudsonmendes-estudos/cm3005-dsc/venv/lib/python3.8/site-packages/sklearn/neural_network/_multilayer_perceptron.py:679: ConvergenceWarning: Stochastic Optimizer: Maximum iterations (10) reached and the optimization hasn't converged yet.\n",
      "  warnings.warn(\n"
     ]
    },
    {
     "name": "stdout",
     "output_type": "stream",
     "text": [
      "Iteration 1, loss = 120273823578.01194763\n",
      "Iteration 2, loss = 83791372605.22406006\n",
      "Iteration 3, loss = 78318933657.55349731\n",
      "Iteration 4, loss = 75820814312.96865845\n",
      "Iteration 5, loss = 73690020931.99322510\n",
      "Iteration 6, loss = 71310368390.40191650\n",
      "Iteration 7, loss = 68836229946.21699524\n",
      "Iteration 8, loss = 66805736930.86334991\n",
      "Iteration 9, loss = 65365832256.56623077\n",
      "Iteration 10, loss = 64300082125.20735931\n"
     ]
    },
    {
     "name": "stderr",
     "output_type": "stream",
     "text": [
      "/Users/hudsonmendes/Workspaces/hudsonmendes-estudos/cm3005-dsc/venv/lib/python3.8/site-packages/sklearn/neural_network/_multilayer_perceptron.py:679: ConvergenceWarning: Stochastic Optimizer: Maximum iterations (10) reached and the optimization hasn't converged yet.\n",
      "  warnings.warn(\n"
     ]
    },
    {
     "name": "stdout",
     "output_type": "stream",
     "text": [
      "Iteration 1, loss = 101190606679.78709412\n",
      "Iteration 2, loss = 70947711015.21347046\n",
      "Iteration 3, loss = 67102726500.97877502\n",
      "Iteration 4, loss = 64064298322.94711304\n",
      "Iteration 5, loss = 60612198620.36365509\n",
      "Iteration 6, loss = 57734844256.12177277\n",
      "Iteration 7, loss = 55840789080.02976990\n",
      "Iteration 8, loss = 54494958809.76595306\n",
      "Iteration 9, loss = 53390667402.73776245\n",
      "Iteration 10, loss = 52394775753.83022308\n"
     ]
    },
    {
     "name": "stderr",
     "output_type": "stream",
     "text": [
      "/Users/hudsonmendes/Workspaces/hudsonmendes-estudos/cm3005-dsc/venv/lib/python3.8/site-packages/sklearn/neural_network/_multilayer_perceptron.py:679: ConvergenceWarning: Stochastic Optimizer: Maximum iterations (10) reached and the optimization hasn't converged yet.\n",
      "  warnings.warn(\n"
     ]
    },
    {
     "name": "stdout",
     "output_type": "stream",
     "text": [
      "Iteration 1, loss = 108011011530.48199463\n",
      "Iteration 2, loss = 77850561911.73858643\n",
      "Iteration 3, loss = 74038138613.42051697\n",
      "Iteration 4, loss = 71056979888.42411804\n",
      "Iteration 5, loss = 67683601496.44116974\n",
      "Iteration 6, loss = 64846844310.94158936\n",
      "Iteration 7, loss = 62897833704.43992615\n",
      "Iteration 8, loss = 61523487555.37033844\n",
      "Iteration 9, loss = 60404028512.75385284\n",
      "Iteration 10, loss = 59398280467.32635498\n"
     ]
    },
    {
     "name": "stderr",
     "output_type": "stream",
     "text": [
      "/Users/hudsonmendes/Workspaces/hudsonmendes-estudos/cm3005-dsc/venv/lib/python3.8/site-packages/sklearn/neural_network/_multilayer_perceptron.py:679: ConvergenceWarning: Stochastic Optimizer: Maximum iterations (10) reached and the optimization hasn't converged yet.\n",
      "  warnings.warn(\n"
     ]
    },
    {
     "name": "stdout",
     "output_type": "stream",
     "text": [
      "Iteration 1, loss = 110050034681.88601685\n",
      "Iteration 2, loss = 79745014553.81008911\n",
      "Iteration 3, loss = 75915411953.35942078\n",
      "Iteration 4, loss = 72932477807.13632202\n",
      "Iteration 5, loss = 69479966394.61991882\n",
      "Iteration 6, loss = 66630287303.24523163\n",
      "Iteration 7, loss = 64664517369.15148163\n",
      "Iteration 8, loss = 63308136979.53083038\n",
      "Iteration 9, loss = 62196034594.87266541\n",
      "Iteration 10, loss = 61210262191.74716187\n"
     ]
    },
    {
     "name": "stderr",
     "output_type": "stream",
     "text": [
      "/Users/hudsonmendes/Workspaces/hudsonmendes-estudos/cm3005-dsc/venv/lib/python3.8/site-packages/sklearn/neural_network/_multilayer_perceptron.py:679: ConvergenceWarning: Stochastic Optimizer: Maximum iterations (10) reached and the optimization hasn't converged yet.\n",
      "  warnings.warn(\n"
     ]
    },
    {
     "name": "stdout",
     "output_type": "stream",
     "text": [
      "Iteration 1, loss = 123665745003.57063293\n",
      "Iteration 2, loss = 117489319982.15780640\n",
      "Iteration 3, loss = 107442155885.70742798\n",
      "Iteration 4, loss = 95566694612.85227966\n",
      "Iteration 5, loss = 84365071547.17100525\n",
      "Iteration 6, loss = 76724035723.58331299\n",
      "Iteration 7, loss = 73549723906.76524353\n",
      "Iteration 8, loss = 72218258372.98153687\n",
      "Iteration 9, loss = 71137202709.24365234\n",
      "Iteration 10, loss = 70190691182.19238281\n"
     ]
    },
    {
     "name": "stderr",
     "output_type": "stream",
     "text": [
      "/Users/hudsonmendes/Workspaces/hudsonmendes-estudos/cm3005-dsc/venv/lib/python3.8/site-packages/sklearn/neural_network/_multilayer_perceptron.py:679: ConvergenceWarning: Stochastic Optimizer: Maximum iterations (10) reached and the optimization hasn't converged yet.\n",
      "  warnings.warn(\n"
     ]
    },
    {
     "name": "stdout",
     "output_type": "stream",
     "text": [
      "Iteration 1, loss = 130613595924.97334290\n",
      "Iteration 2, loss = 124452381228.81834412\n",
      "Iteration 3, loss = 114412090603.67022705\n",
      "Iteration 4, loss = 102521610746.98164368\n",
      "Iteration 5, loss = 91321125067.93893433\n",
      "Iteration 6, loss = 83641346472.02090454\n",
      "Iteration 7, loss = 80460117693.09550476\n",
      "Iteration 8, loss = 79136035126.27342224\n",
      "Iteration 9, loss = 78049467793.96929932\n",
      "Iteration 10, loss = 77108304067.31054688\n"
     ]
    },
    {
     "name": "stderr",
     "output_type": "stream",
     "text": [
      "/Users/hudsonmendes/Workspaces/hudsonmendes-estudos/cm3005-dsc/venv/lib/python3.8/site-packages/sklearn/neural_network/_multilayer_perceptron.py:679: ConvergenceWarning: Stochastic Optimizer: Maximum iterations (10) reached and the optimization hasn't converged yet.\n",
      "  warnings.warn(\n"
     ]
    },
    {
     "name": "stdout",
     "output_type": "stream",
     "text": [
      "Iteration 1, loss = 132557013574.33990479\n",
      "Iteration 2, loss = 126398038493.33647156\n",
      "Iteration 3, loss = 116356250068.26155090\n",
      "Iteration 4, loss = 104478575011.74166870\n",
      "Iteration 5, loss = 93283549867.68176270\n",
      "Iteration 6, loss = 85569642613.69943237\n",
      "Iteration 7, loss = 82371394787.86305237\n",
      "Iteration 8, loss = 81035909600.70603943\n",
      "Iteration 9, loss = 79946238898.75186157\n",
      "Iteration 10, loss = 79001831001.06178284\n"
     ]
    },
    {
     "name": "stderr",
     "output_type": "stream",
     "text": [
      "/Users/hudsonmendes/Workspaces/hudsonmendes-estudos/cm3005-dsc/venv/lib/python3.8/site-packages/sklearn/neural_network/_multilayer_perceptron.py:679: ConvergenceWarning: Stochastic Optimizer: Maximum iterations (10) reached and the optimization hasn't converged yet.\n",
      "  warnings.warn(\n"
     ]
    },
    {
     "name": "stdout",
     "output_type": "stream",
     "text": [
      "Iteration 1, loss = 124985478519.33375549\n",
      "Iteration 2, loss = 124980944963.32568359\n",
      "Iteration 3, loss = 124976410538.40550232\n",
      "Iteration 4, loss = 124971878399.78311157\n",
      "Iteration 5, loss = 124967344605.16751099\n",
      "Iteration 6, loss = 124962812330.70935059\n",
      "Iteration 7, loss = 124958279741.34210205\n",
      "Iteration 8, loss = 124953746825.48844910\n",
      "Iteration 9, loss = 124949217094.94790649\n",
      "Iteration 10, loss = 124944683874.63838196\n"
     ]
    },
    {
     "name": "stderr",
     "output_type": "stream",
     "text": [
      "/Users/hudsonmendes/Workspaces/hudsonmendes-estudos/cm3005-dsc/venv/lib/python3.8/site-packages/sklearn/neural_network/_multilayer_perceptron.py:679: ConvergenceWarning: Stochastic Optimizer: Maximum iterations (10) reached and the optimization hasn't converged yet.\n",
      "  warnings.warn(\n"
     ]
    },
    {
     "name": "stdout",
     "output_type": "stream",
     "text": [
      "Iteration 1, loss = 131930281381.04046631\n",
      "Iteration 2, loss = 131925747733.03018188\n",
      "Iteration 3, loss = 131921212104.41706848\n",
      "Iteration 4, loss = 131916677026.07279968\n",
      "Iteration 5, loss = 131912143776.62605286\n",
      "Iteration 6, loss = 131907609779.15498352\n",
      "Iteration 7, loss = 131903075416.63151550\n",
      "Iteration 8, loss = 131898541271.85794067\n",
      "Iteration 9, loss = 131894009088.35922241\n",
      "Iteration 10, loss = 131889476045.07356262\n"
     ]
    },
    {
     "name": "stderr",
     "output_type": "stream",
     "text": [
      "/Users/hudsonmendes/Workspaces/hudsonmendes-estudos/cm3005-dsc/venv/lib/python3.8/site-packages/sklearn/neural_network/_multilayer_perceptron.py:679: ConvergenceWarning: Stochastic Optimizer: Maximum iterations (10) reached and the optimization hasn't converged yet.\n",
      "  warnings.warn(\n"
     ]
    },
    {
     "name": "stdout",
     "output_type": "stream",
     "text": [
      "Iteration 1, loss = 133870967441.10452271\n",
      "Iteration 2, loss = 133866430908.36830139\n",
      "Iteration 3, loss = 133861896982.62982178\n",
      "Iteration 4, loss = 133857361300.37638855\n",
      "Iteration 5, loss = 133852825329.46957397\n",
      "Iteration 6, loss = 133848289966.92251587\n",
      "Iteration 7, loss = 133843753745.35826111\n",
      "Iteration 8, loss = 133839219246.58795166\n",
      "Iteration 9, loss = 133834685013.78202820\n",
      "Iteration 10, loss = 133830150731.00544739\n"
     ]
    },
    {
     "name": "stderr",
     "output_type": "stream",
     "text": [
      "/Users/hudsonmendes/Workspaces/hudsonmendes-estudos/cm3005-dsc/venv/lib/python3.8/site-packages/sklearn/neural_network/_multilayer_perceptron.py:679: ConvergenceWarning: Stochastic Optimizer: Maximum iterations (10) reached and the optimization hasn't converged yet.\n",
      "  warnings.warn(\n",
      "/Users/hudsonmendes/Workspaces/hudsonmendes-estudos/cm3005-dsc/venv/lib/python3.8/site-packages/sklearn/neural_network/_multilayer_perceptron.py:686: UserWarning: Training interrupted by user.\n",
      "  warnings.warn(\"Training interrupted by user.\")\n"
     ]
    }
   ],
   "source": [
    "grid.fit(X1, y1)\n",
    "grid.best_params_"
   ]
  },
  {
   "cell_type": "code",
   "execution_count": null,
   "metadata": {},
   "outputs": [],
   "source": [
    "model = make_model(\n",
    "    hidden_layer_sizes=grid.best_params_[\"hidden_layer_sizes\"],\n",
    "    max_iter=200,\n",
    ")\n",
    "model\n"
   ]
  },
  {
   "cell_type": "code",
   "execution_count": null,
   "metadata": {},
   "outputs": [],
   "source": [
    "model.fit(X1, y1)\n"
   ]
  },
  {
   "cell_type": "code",
   "execution_count": null,
   "metadata": {},
   "outputs": [],
   "source": [
    "model.score(X2, y2)\n"
   ]
  },
  {
   "attachments": {},
   "cell_type": "markdown",
   "metadata": {},
   "source": [
    "# III. Conclusions\n"
   ]
  },
  {
   "attachments": {},
   "cell_type": "markdown",
   "metadata": {},
   "source": [
    "## Performance of results\n"
   ]
  },
  {
   "attachments": {},
   "cell_type": "markdown",
   "metadata": {},
   "source": [
    "## Closing remarks/statements\n"
   ]
  }
 ],
 "metadata": {
  "kernelspec": {
   "display_name": "venv",
   "language": "python",
   "name": "python3"
  },
  "language_info": {
   "codemirror_mode": {
    "name": "ipython",
    "version": 3
   },
   "file_extension": ".py",
   "mimetype": "text/x-python",
   "name": "python",
   "nbconvert_exporter": "python",
   "pygments_lexer": "ipython3",
   "version": "3.8.7"
  },
  "orig_nbformat": 4,
  "vscode": {
   "interpreter": {
    "hash": "ff2a5bf76a5a6a6e16a446abb6a1160221241a1606404c7f1c7e55bf8cf0847f"
   }
  }
 },
 "nbformat": 4,
 "nbformat_minor": 2
}
